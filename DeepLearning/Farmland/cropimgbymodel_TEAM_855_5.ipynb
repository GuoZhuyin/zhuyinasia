{
  "cells": [
    {
      "cell_type": "markdown",
      "metadata": {
        "id": "view-in-github",
        "colab_type": "text"
      },
      "source": [
        "<a href=\"https://colab.research.google.com/github/GuoZhuyin/Zhuyin.Asia/blob/main/DeepLearning/Farmland/cropimgbymodel_TEAM_855_5.ipynb\" target=\"_parent\"><img src=\"https://colab.research.google.com/assets/colab-badge.svg\" alt=\"Open In Colab\"/></a>"
      ]
    },
    {
      "cell_type": "markdown",
      "metadata": {
        "id": "1qZ51LhDRSwF"
      },
      "source": [
        "## 訓練完成的模型進行切圖"
      ],
      "id": "1qZ51LhDRSwF"
    },
    {
      "cell_type": "code",
      "execution_count": null,
      "metadata": {
        "id": "C5Cet59rQD62"
      },
      "outputs": [],
      "source": [
        "import PIL\n",
        "import os\n",
        "import pandas as pd\n",
        "import numpy as np\n",
        "import matplotlib.pyplot as plt\n",
        "%matplotlib inline\n",
        "import torch\n",
        "import torchvision\n",
        "from torch import nn\n",
        "from torch.utils.data import Dataset, DataLoader\n",
        "from torchvision import datasets, transforms\n",
        "from torchvision.transforms import ToTensor\n",
        "print(\"PyTorch Version: \",torch.__version__)\n",
        "print(\"Torchvision Version: \",torchvision.__version__)"
      ],
      "id": "C5Cet59rQD62"
    },
    {
      "cell_type": "code",
      "execution_count": null,
      "metadata": {
        "id": "w5b1gq5NLjmp"
      },
      "outputs": [],
      "source": [
        "classes=['banana', 'bareland', 'carrot', 'corn', 'dragonfruit', 'garlic', 'guava', 'peanut', 'pineapple', 'pumpkin', 'rice', 'soybean', 'sugarcane', 'tomato', 'building', 'mountain', 'sky']\n",
        "num_classes = len(classes)\n",
        "print(num_classes)"
      ],
      "id": "w5b1gq5NLjmp"
    },
    {
      "cell_type": "markdown",
      "metadata": {
        "id": "BSeA3RPnRSwO"
      },
      "source": [
        "原有14個作物類別外，另外又加入'build','mountain','sky'，讓模型可以辨識那些為不需要的類別，所以共17個類別"
      ],
      "id": "BSeA3RPnRSwO"
    },
    {
      "cell_type": "code",
      "execution_count": null,
      "metadata": {
        "id": "h1u3nkoQLcof"
      },
      "outputs": [],
      "source": [
        "from torchvision import models\n",
        "#model = models.inception_v3(pretrained=False)\n",
        "model = torch.hub.load('pytorch/vision:v0.10.0', 'inception_v3', pretrained=False)\n",
        "model.aux_logits = False\n",
        "model.fc =  nn.Linear(model.fc.in_features, num_classes)"
      ],
      "id": "h1u3nkoQLcof"
    },
    {
      "cell_type": "markdown",
      "metadata": {
        "id": "9b7fti0lRSwP"
      },
      "source": [
        "透過inception_v3進行切圖"
      ],
      "id": "9b7fti0lRSwP"
    },
    {
      "cell_type": "code",
      "execution_count": null,
      "metadata": {
        "id": "PGBeRutyRSwQ"
      },
      "outputs": [],
      "source": [
        "model = model.cuda()\n",
        "model = nn.DataParallel(model) #cuda使用"
      ],
      "id": "PGBeRutyRSwQ"
    },
    {
      "cell_type": "code",
      "execution_count": null,
      "metadata": {
        "id": "XNMnRPMVL4uN"
      },
      "outputs": [],
      "source": [
        "model.load_state_dict(torch.load('../model/InV3_TEAM_855_5.0.pth')) #InV3_TEAM_855_5.0.pth為訓練完成儲存的模型"
      ],
      "id": "XNMnRPMVL4uN"
    },
    {
      "cell_type": "markdown",
      "metadata": {
        "id": "iqISs_8-RSwR"
      },
      "source": [
        "輸入的模型參數"
      ],
      "id": "iqISs_8-RSwR"
    },
    {
      "cell_type": "code",
      "execution_count": null,
      "metadata": {
        "id": "dXFQNFmHL9D9"
      },
      "outputs": [],
      "source": [
        "model.eval()"
      ],
      "id": "dXFQNFmHL9D9"
    },
    {
      "cell_type": "code",
      "execution_count": null,
      "metadata": {
        "id": "Q4LmbgFS8mjv"
      },
      "outputs": [],
      "source": [
        "mydir = \"FITV3\""
      ],
      "id": "Q4LmbgFS8mjv"
    },
    {
      "cell_type": "markdown",
      "metadata": {
        "id": "4tgRi0jyRSwS"
      },
      "source": [
        "建立資料夾暫時將截圖後的圖片放在該資料夾中"
      ],
      "id": "4tgRi0jyRSwS"
    },
    {
      "cell_type": "code",
      "execution_count": null,
      "metadata": {
        "id": "s0_o8Plm8tJ-"
      },
      "outputs": [],
      "source": [
        "if not os.path.isdir(mydir):\n",
        "    os.mkdir(mydir)"
      ],
      "id": "s0_o8Plm8tJ-"
    },
    {
      "cell_type": "code",
      "execution_count": null,
      "metadata": {
        "id": "sKD99NZv7JWJ"
      },
      "outputs": [],
      "source": [
        "folders=[ 'carrot', 'corn', 'dragonfruit', 'peanut', 'pumpkin', 'soybean' ]\n",
        "print(len(folders))\n",
        "#'banana', 'bareland', 'carrot', 'corn', 'dragonfruit', 'garlic', 'guava', 'peanut', 'pineapple', 'pumpkin', 'rice', 'soybean', 'sugarcane', 'tomato'"
      ],
      "id": "sKD99NZv7JWJ"
    },
    {
      "cell_type": "markdown",
      "metadata": {
        "id": "6ErmZtO4RSwU"
      },
      "source": [
        "輸入的資料夾位置"
      ],
      "id": "6ErmZtO4RSwU"
    },
    {
      "cell_type": "code",
      "execution_count": null,
      "metadata": {
        "id": "tgE87MU8GCLl"
      },
      "outputs": [],
      "source": [
        "nonfield=['building', 'mountain', 'sky']\n",
        "print(len(nonfield))"
      ],
      "id": "tgE87MU8GCLl"
    },
    {
      "cell_type": "code",
      "execution_count": null,
      "metadata": {
        "id": "cYYzJmsL98ho"
      },
      "outputs": [],
      "source": [
        "class_to_index={'banana': 0,\n",
        " 'bareland': 1,\n",
        " 'building': 2,\n",
        " 'carrot': 3,\n",
        " 'corn': 4,\n",
        " 'dragonfruit': 5,\n",
        " 'garlic': 6,\n",
        " 'guava': 7,\n",
        " 'mountain': 8,\n",
        " 'peanut': 9,\n",
        " 'pineapple': 10,\n",
        " 'pumpkin': 11,\n",
        " 'rice': 12,\n",
        " 'sky': 13,\n",
        " 'soybean': 14,\n",
        " 'sugarcane': 15,\n",
        " 'tomato': 16}"
      ],
      "id": "cYYzJmsL98ho"
    },
    {
      "cell_type": "code",
      "execution_count": null,
      "metadata": {
        "id": "JXTZOPpHJoZN"
      },
      "outputs": [],
      "source": [
        "index_to_class = {v: k for k, v in class_to_index.items()}"
      ],
      "id": "JXTZOPpHJoZN"
    },
    {
      "cell_type": "code",
      "execution_count": null,
      "metadata": {
        "id": "7SvWgOCk8vZ5"
      },
      "outputs": [],
      "source": [
        "import os\n",
        "for sub in nonfield:\n",
        "    subpath=os.path.join(mydir, sub)\n",
        "    if not os.path.isdir(subpath):\n",
        "      os.mkdir(subpath)"
      ],
      "id": "7SvWgOCk8vZ5"
    },
    {
      "cell_type": "markdown",
      "metadata": {
        "id": "KyXyFRZsRSwV"
      },
      "source": [
        "如果被預測為該類別則放入FITV3/subpath"
      ],
      "id": "KyXyFRZsRSwV"
    },
    {
      "cell_type": "code",
      "execution_count": null,
      "metadata": {
        "id": "Mms8TovoGQEP"
      },
      "outputs": [],
      "source": [
        "for sub in folders:\n",
        "    subpath=os.path.join(mydir, sub+\"_out\")\n",
        "    if not os.path.isdir(subpath):\n",
        "      os.mkdir(subpath)\n",
        "    subpath=os.path.join(mydir, sub)\n",
        "    if not os.path.isdir(subpath):\n",
        "      os.mkdir(subpath)"
      ],
      "id": "Mms8TovoGQEP"
    },
    {
      "cell_type": "markdown",
      "metadata": {
        "id": "nnj6gyPyRSwW"
      },
      "source": [
        "如果被預測出來不是該類別且不是'build','mountain','sky'則放入FITV3/subpath_out"
      ],
      "id": "nnj6gyPyRSwW"
    },
    {
      "cell_type": "code",
      "execution_count": null,
      "metadata": {
        "id": "8RbJUQiD8UEu"
      },
      "outputs": [],
      "source": [
        "test_transform = transforms.Compose([\n",
        "    transforms.Resize((299, 299)),\n",
        "    transforms.ToTensor(), # ToTensor : [0, 255] -> [0, 1]\n",
        "    transforms.Normalize(mean=[0.485, 0.456, 0.406],\n",
        "                         std=[0.229, 0.224, 0.225])\n",
        "])"
      ],
      "id": "8RbJUQiD8UEu"
    },
    {
      "cell_type": "code",
      "execution_count": null,
      "metadata": {
        "id": "YtwIOenM7NLE"
      },
      "outputs": [],
      "source": [
        "import glob\n",
        "from pathlib import Path\n",
        "from PIL import Image \n",
        "for f in folders:\n",
        "    landtype_index=class_to_index[f]\n",
        "    subpath=os.path.join(f, \"*\")\n",
        "    files = glob.glob(subpath)\n",
        "    print(f\"Categroy:{f}\")\n",
        "    for fname in files:\n",
        "      print(fname)\n",
        "      img_name = Path(fname).stem\n",
        "      ext_name = Path(fname).suffix\n",
        "      print(img_name, ext_name, sep=\" \")"
      ],
      "id": "YtwIOenM7NLE"
    },
    {
      "cell_type": "code",
      "execution_count": null,
      "metadata": {
        "id": "0wela30L7cDW"
      },
      "outputs": [],
      "source": [
        "from pathlib import Path\n",
        "def scan_image(fname, landtype_index):\n",
        "    count = 0\n",
        "    img_name = Path(fname).stem\n",
        "    ext_name = Path(fname).suffix\n",
        "    im = Image.open(fname)\n",
        "    width, height = im.size   # Get dimensions\n",
        "    new_width = 512\n",
        "    new_height = 512\n",
        "    stride = 512\n",
        "    for startx in range(width//8, width*7//8-new_width, stride):\n",
        "      for starty in range(height//8, height*7//8-new_height, stride):\n",
        "          left = startx\n",
        "          top = starty\n",
        "          right = startx + new_width\n",
        "          bottom = starty + new_height\n",
        "          subname = f\"{img_name}-{count:03}{ext_name}\"\n",
        "          count +=1\n",
        "          im2 = im.crop((left, top, right, bottom))\n",
        "          input_tensor = test_transform(im2)\n",
        "          input_batch = input_tensor.unsqueeze(0) # create a mini-batch as expected by the model\n",
        "          input_batch = input_batch.to('cuda')\n",
        "          output = model(input_batch)\n",
        "          probabilities = torch.nn.functional.softmax(output[0], dim=0).tolist()\n",
        "          det = argmax(probabilities)\n",
        "          if det ==2 or det ==8 or det ==13:#building, mountain sky\n",
        "             subfolder = index_to_class[det]\n",
        "          elif probabilities[landtype_index] > 0.5: #數值可能性必須大於0.5才進行分類\n",
        "             subfolder = index_to_class[landtype_index]\n",
        "          else:\n",
        "             subfolder = index_to_class[landtype_index]+'_out' \n",
        "          name2 = os.path.join(mydir, subfolder, subname)\n",
        "          print(name2)\n",
        "          im2.save(name2)\n",
        "          break"
      ],
      "id": "0wela30L7cDW"
    },
    {
      "cell_type": "code",
      "execution_count": null,
      "metadata": {
        "id": "_bMLXZM4FizL"
      },
      "outputs": [],
      "source": [
        "def argmax(lst): return max(range(len(lst)), key=lst.__getitem__)"
      ],
      "id": "_bMLXZM4FizL"
    },
    {
      "cell_type": "code",
      "execution_count": null,
      "metadata": {
        "id": "j9ogjrprFklb"
      },
      "outputs": [],
      "source": [
        "a=[ 4, 5, 6, 8, 2]"
      ],
      "id": "j9ogjrprFklb"
    },
    {
      "cell_type": "code",
      "execution_count": null,
      "metadata": {
        "id": "De-6QgfAFp73"
      },
      "outputs": [],
      "source": [
        "argmax(a)"
      ],
      "id": "De-6QgfAFp73"
    },
    {
      "cell_type": "code",
      "execution_count": null,
      "metadata": {
        "id": "GfGllqurAboi"
      },
      "outputs": [],
      "source": [
        "import glob\n",
        "from PIL import Image \n",
        "for f in folders:\n",
        "    landtype_index=class_to_index[f]\n",
        "    subpath=os.path.join(f, \"*\")\n",
        "    files = glob.glob(subpath)\n",
        "    print(f\"Categroy:{f}\")\n",
        "    for fname in files:\n",
        "      print(fname)\n",
        "      scan_image(fname, landtype_index)"
      ],
      "id": "GfGllqurAboi"
    }
  ],
  "metadata": {
    "accelerator": "GPU",
    "colab": {
      "collapsed_sections": [],
      "provenance": [],
      "include_colab_link": true
    },
    "interpreter": {
      "hash": "6a48b61ccd9621949a25493e4b94bb30d55d92da11eeca535368024da0351571"
    },
    "kernelspec": {
      "display_name": "Python 3",
      "language": "python",
      "name": "python3"
    },
    "language_info": {
      "codemirror_mode": {
        "name": "ipython",
        "version": 3
      },
      "file_extension": ".py",
      "mimetype": "text/x-python",
      "name": "python",
      "nbconvert_exporter": "python",
      "pygments_lexer": "ipython3",
      "version": "3.8.3"
    }
  },
  "nbformat": 4,
  "nbformat_minor": 5
}